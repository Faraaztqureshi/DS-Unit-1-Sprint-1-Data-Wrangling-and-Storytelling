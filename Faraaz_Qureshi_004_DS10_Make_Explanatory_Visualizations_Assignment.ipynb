{
  "nbformat": 4,
  "nbformat_minor": 0,
  "metadata": {
    "colab": {
      "name": "Faraaz_Qureshi_004_DS10_Make_Explanatory_Visualizations_Assignment.ipynb",
      "provenance": [],
      "collapsed_sections": [],
      "include_colab_link": true
    },
    "language_info": {
      "codemirror_mode": {
        "name": "ipython",
        "version": 3
      },
      "file_extension": ".py",
      "mimetype": "text/x-python",
      "name": "python",
      "nbconvert_exporter": "python",
      "pygments_lexer": "ipython3",
      "version": "3.7.1"
    },
    "kernelspec": {
      "display_name": "Python 3",
      "language": "python",
      "name": "python3"
    }
  },
  "cells": [
    {
      "cell_type": "markdown",
      "metadata": {
        "id": "view-in-github",
        "colab_type": "text"
      },
      "source": [
        "<a href=\"https://colab.research.google.com/github/Faraaztqureshi/DS-Unit-1-Sprint-1-Data-Wrangling-and-Storytelling/blob/master/Faraaz_Qureshi_004_DS10_Make_Explanatory_Visualizations_Assignment.ipynb\" target=\"_parent\"><img src=\"https://colab.research.google.com/assets/colab-badge.svg\" alt=\"Open In Colab\"/></a>"
      ]
    },
    {
      "cell_type": "markdown",
      "metadata": {
        "colab_type": "text",
        "id": "NMEswXWh9mqw"
      },
      "source": [
        "Lambda School Data Science\n",
        "\n",
        "*Unit 1, Sprint 1, Module 4*\n",
        "\n",
        "---\n",
        "\n",
        "# ASSIGNMENT\n",
        "\n",
        "### 1) Replicate the lesson code. I recommend that you [do not copy-paste](https://docs.google.com/document/d/1ubOw9B3Hfip27hF2ZFnW3a3z9xAgrUDRReOEo-FHCVs/edit).\n",
        "\n",
        "Get caught up to where we got our example in class and then try and take things further. How close to \"pixel perfect\" can you make the lecture graph?\n",
        "\n",
        "Once you have something that you're proud of, share your graph in the cohort channel and move on to the second exercise.\n",
        "\n",
        "### 2) Reproduce another example from [FiveThityEight's shared data repository](https://data.fivethirtyeight.com/).\n",
        "\n",
        "**WARNING**: There are a lot of very custom graphs and tables at the above link. I **highly** recommend not trying to reproduce any that look like a table of values or something really different from the graph types that we are already familiar with. Search through the posts until you find a graph type that you are more or less familiar with: histogram, bar chart, stacked bar chart, line chart, [seaborn relplot](https://seaborn.pydata.org/generated/seaborn.relplot.html), etc. Recreating some of the graphics that 538 uses would be a lot easier in Adobe photoshop/illustrator than with matplotlib. \n",
        "\n",
        "- If you put in some time to find a graph that looks \"easy\" to replicate you'll probably find that it's not as easy as you thought. \n",
        "\n",
        "- If you start with a graph that looks hard to replicate you'll probably run up against a brick wall and be disappointed with your afternoon.\n",
        "\n",
        "\n",
        "\n",
        "\n",
        "\n",
        "\n",
        "\n",
        "\n",
        "\n",
        "\n"
      ]
    },
    {
      "cell_type": "code",
      "metadata": {
        "id": "7SY1ZHawyZvz",
        "colab_type": "code",
        "colab": {}
      },
      "source": [
        "# Your Work Here\n",
        "## look up matplotlib gallery or seaborn gallery to see what types of graphs \n",
        "## we can create\n",
        "## donut charts look pretty cool\n",
        "## center section of the graph is called axes (NOT AXIS DONT GET THEM CONFUSED)\n",
        "## figure is the background the image sits upon\n",
        "## plt.show() is a divider between axes (NOT SXIS)"
      ],
      "execution_count": 0,
      "outputs": []
    },
    {
      "cell_type": "code",
      "metadata": {
        "id": "22jyGmg02sKQ",
        "colab_type": "code",
        "colab": {}
      },
      "source": [
        ""
      ],
      "execution_count": 0,
      "outputs": []
    },
    {
      "cell_type": "code",
      "metadata": {
        "id": "e-xN2A_f2sTq",
        "colab_type": "code",
        "colab": {
          "base_uri": "https://localhost:8080/",
          "height": 285
        },
        "outputId": "40277106-dbd5-47b5-e3f7-58ab65cff436"
      },
      "source": [
        "%matplotlib inline\n",
        "import matplotlib.pyplot as plt\n",
        "import numpy as np\n",
        "import pandas as pd\n",
        "\n",
        "\n",
        "plt.style.use('fivethirtyeight')\n",
        "\n",
        "fake = pd.Series([38, 3, 2, 1, 2, 4, 6, 5, 5, 33], \n",
        "                 index=range(1,11))\n",
        "\n",
        "fake.plot.bar(color='C1', width=0.9);\n",
        "\n",
        "fig.show()"
      ],
      "execution_count": 4,
      "outputs": [
        {
          "output_type": "display_data",
          "data": {
            "image/png": "[encoded data removed]",
            "text/plain": [
              "<Figure size 432x288 with 1 Axes>"
            ]
          },
          "metadata": {
            "tags": []
          }
        }
      ]
    },
    {
      "cell_type": "code",
      "metadata": {
        "id": "qa_iMEZD2dmg",
        "colab_type": "code",
        "colab": {
          "base_uri": "https://localhost:8080/",
          "height": 358
        },
        "outputId": "a6814dae-2afe-4302-ffd5-a170449ea763"
      },
      "source": [
        "font = {'fontname':'Arial'}\n",
        "\n",
        "## figure axes syntx\n",
        "fig, ax = plt.subplots()\n",
        "\n",
        "## make figure background white\n",
        "fig.patch.set(facecolor='None')\n",
        "fig.patch.set_alpha(0)\n",
        "\n",
        "## set axes background \n",
        "ax.set_facecolor=('None')\n",
        "\n",
        "## put bars on the axis\n",
        "fake.plot.bar(width=0.9, color='#ED7039')\n",
        "\n",
        "## put in a title\n",
        "ax.set_title(\"'An Inconvenient Sequel: Truth To Power' is divisive\", fontweight='bold', fontsize=13, x=.35, y=1.1, fontdict=font)\n",
        "\n",
        "## put in x,y label\n",
        "ax.set_ylabel(\"Percent of total votes\", fontsize= 11, fontweight='bold', fontdict=font)\n",
        "ax.set_xlabel(\"Rating\", fontsize= 11, fontweight='bold', fontdict=font)\n",
        "\n",
        "## set the x ticks to be vertical\n",
        "ax.set_xticklabels([1, 2, 3, 4, 5, 6, 7, 8, 9,10], rotation=0, fontsize=10, alpha=.6)\n",
        "\n",
        "\n",
        "## set the y ticks up to 40 to match other figure\n",
        "ax.set_yticklabels(['0', '10', '20', '30', \"40%\"], fontsize=10, alpha=.6)\n",
        "ax.set_yticks(range(0, 50, 10))\n",
        "\n",
        "## put in the subtitle line as a text object\n",
        "## needs s, x, y where s= string, x is position left or right and y is up or down\n",
        "ax.text(s = 'IMDb ratings for the film as of Aug.29', x=-1.8, y=42, fontsize=12, fontdict=font)\n",
        "ax.text(s= '_____________________________________________________________', x =-2, y=-6.25, alpha=0.3)\n",
        "ax.text(s='FiveThirtyEight', x=-2, y=-9.0, fontsize=9, alpha=0.4)\n",
        "ax.text(s='SOURCE: IMDB', x=8.4, y=-8.8, fontsize=7, alpha=0.4)\n",
        "ax.tick_params(direction='out')\n",
        "\n",
        "fig.show()\n",
        "plt.savefig('q_bar_chart.png', transparent=True)"
      ],
      "execution_count": 211,
      "outputs": [
        {
          "output_type": "display_data",
          "data": {
            "image/png": "[encoded data removed]",
            "text/plain": [
              "<Figure size 432x288 with 1 Axes>"
            ]
          },
          "metadata": {
            "tags": []
          }
        }
      ]
    },
    {
      "cell_type": "markdown",
      "metadata": {
        "id": "0wSrBzmJyWaV",
        "colab_type": "text"
      },
      "source": [
        "# STRETCH OPTIONS\n",
        "\n",
        "### 1) Reproduce one of the following using the matplotlib or seaborn libraries:\n",
        "\n",
        "- [thanksgiving-2015](https://fivethirtyeight.com/features/heres-what-your-part-of-america-eats-on-thanksgiving/) \n",
        "- [candy-power-ranking](https://fivethirtyeight.com/features/the-ultimate-halloween-candy-power-ranking/) \n",
        "- or another example of your choice!\n",
        "\n",
        "### 2) Make more charts!\n",
        "\n",
        "Choose a chart you want to make, from [Visual Vocabulary - Vega Edition](http://ft.com/vocabulary).\n",
        "\n",
        "Find the chart in an example gallery of a Python data visualization library:\n",
        "- [Seaborn](http://seaborn.pydata.org/examples/index.html)\n",
        "- [Altair](https://altair-viz.github.io/gallery/index.html)\n",
        "- [Matplotlib](https://matplotlib.org/gallery.html)\n",
        "- [Pandas](https://pandas.pydata.org/pandas-docs/stable/visualization.html)\n",
        "\n",
        "Reproduce the chart. [Optionally, try the \"Ben Franklin Method.\"](https://docs.google.com/document/d/1ubOw9B3Hfip27hF2ZFnW3a3z9xAgrUDRReOEo-FHCVs/edit) If you want, experiment and make changes.\n",
        "\n",
        "Take notes. Consider sharing your work with your cohort!"
      ]
    },
    {
      "cell_type": "code",
      "metadata": {
        "id": "dRJkKftiy5BJ",
        "colab_type": "code",
        "colab": {}
      },
      "source": [
        ""
      ],
      "execution_count": 0,
      "outputs": []
    },
    {
      "cell_type": "code",
      "metadata": {
        "id": "6vYsjh4dYhmR",
        "colab_type": "code",
        "colab": {}
      },
      "source": [
        "### data from 538\n",
        "year = ['2014', '2016', '2018']\n",
        "count = [3361213, 6747187, 15272992]\n",
        "total = [113951310.78, 222107175.6, 563685031.21]"
      ],
      "execution_count": 0,
      "outputs": []
    },
    {
      "cell_type": "code",
      "metadata": {
        "id": "_YOerh1xY1pl",
        "colab_type": "code",
        "colab": {}
      },
      "source": [
        "import matplotlib.pyplot as plt\n"
      ],
      "execution_count": 0,
      "outputs": []
    },
    {
      "cell_type": "code",
      "metadata": {
        "id": "ZrJ1ziFTb2BV",
        "colab_type": "code",
        "colab": {
          "base_uri": "https://localhost:8080/",
          "height": 303
        },
        "outputId": "01f4bd15-9512-4a0d-d436-cf3181810798"
      },
      "source": [
        "label = ['2014', '2016', '2018']\n",
        "count = [3361213, 6747187, 15272992]\n",
        "index = (['2014', '2016', '2018'])\n",
        "\n",
        "fig, ax = plt.subplots()\n",
        "plt.bar(index, count, color='#A3DEAD')\n",
        "\n",
        "plt.ylim(0, 16000000)\n",
        "ax.set_yticks([0, 5000000, 10000000, 15000000])\n",
        "ax.set_ylabel(\"\")\n",
        "ax.set_title(\"Number of Contributions\")\n",
        "ax.set_xticklabels([2014, 16, 18])\n",
        "\n",
        "fig.show()\n"
      ],
      "execution_count": 208,
      "outputs": [
        {
          "output_type": "display_data",
          "data": {
            "image/png": "[encoded data removed]",
            "text/plain": [
              "<Figure size 432x288 with 1 Axes>"
            ]
          },
          "metadata": {
            "tags": []
          }
        }
      ]
    },
    {
      "cell_type": "code",
      "metadata": {
        "id": "R5PoKAwtj0fT",
        "colab_type": "code",
        "colab": {}
      },
      "source": [
        "## link for the bar chart I'm trying to replicate\n",
        "https://fivethirtyeight.com/features/how-actblue-is-trying-to-turn-small-donations-into-a-blue-wave/"
      ],
      "execution_count": 0,
      "outputs": []
    },
    {
      "cell_type": "code",
      "metadata": {
        "id": "s3UVmHVocmF-",
        "colab_type": "code",
        "colab": {
          "base_uri": "https://localhost:8080/",
          "height": 303
        },
        "outputId": "34d18a4c-969a-4b0f-f0ab-76da6be38e76"
      },
      "source": [
        "label = ['2014', '2016', '2018']\n",
        "index = (['2014', '16', '18'])\n",
        "total = [113951310.78, 222107175.6, 563685031.21]\n",
        "ax.set_yticklabels([\"0\", \"250\", \"500\"])\n",
        "ax.set_xticklabels([2014, 16, 18])\n",
        "\n",
        "\n",
        "fig, ax = plt.subplots()\n",
        "plt.bar(index, total , color='#2983B9')\n",
        "ax.set_title(\"Total amount in dollars\")\n",
        "fig.show()"
      ],
      "execution_count": 221,
      "outputs": [
        {
          "output_type": "display_data",
          "data": {
            "image/png": "[encoded data removed]",
            "text/plain": [
              "<Figure size 432x288 with 1 Axes>"
            ]
          },
          "metadata": {
            "tags": []
          }
        }
      ]
    },
    {
      "cell_type": "code",
      "metadata": {
        "id": "sjIwIt7VC8Ph",
        "colab_type": "code",
        "colab": {}
      },
      "source": [
        ""
      ],
      "execution_count": 0,
      "outputs": []
    }
  ]
}